{
 "cells": [
  {
   "cell_type": "markdown",
   "metadata": {},
   "source": [
    "# Overview\n",
    "\n",
    "- 什么是规划\n",
    "    - 规划的本质\n",
    "    - 如何解决一个规划问题\n",
    "- 传统的规划方法\n",
    "    - 机器人学基础\n",
    "    - 经典算法\n",
    "- 无人车的规划\n",
    "    - Routing\n",
    "    - Planning\n",
    "    - Lattice Planner\n",
    "- APOLLO如何求解规划问题\n",
    "    - EM Planner\n",
    "    - DP、QP求解"
   ]
  },
  {
   "cell_type": "markdown",
   "metadata": {},
   "source": [
    "# What is motion planning?\n",
    "\n",
    "- Planning确实是目前无人车最困难也最有挑战的部分\n",
    "- 本质是什么？\n",
    "$$\n",
    "argmin_{x}f(x)\n",
    "$$\n",
    "- 搜索问题\n",
    "    - Google：Quary词，返回给最优结果\n",
    "    - 无人车：当前环境和当前状态，当前路径上最优选择\n",
    "    - 什么是好规划？\n",
    "- \"好\"其实就是一个目标函数：$f(x)$\n",
    "    - f(x)的最优解"
   ]
  },
  {
   "cell_type": "markdown",
   "metadata": {},
   "source": [
    "# Motion planning 的三个领域\n",
    "\n",
    "- Robotics Fileds:    \n",
    "    - 生成轨迹实现目标\n",
    "    - RRT，A* ，D* ，D* Lite\n",
    "- Control Theory:\n",
    "    - 动态系统理论实现目标状态\n",
    "    - MPC，LQR\n",
    "- AI: 生成状态和Action的一个映射\n",
    "    - Reinforcement learning, Imitation Learning\n",
    "    > Cited by motion planning by Steve Lavelle : http://planning.cs.uiuc.edu/par1.pdf"
   ]
  },
  {
   "cell_type": "markdown",
   "metadata": {},
   "source": [
    "# 如何解决一个Motion Planning问题？\n",
    "\n",
    "- 找一个简单的突破口\n",
    "    - 将问题简化成一个简单的问题：Path Finding Problem \n",
    "        - 不关心速度，不关心走\n",
    "        - 周围固定"
   ]
  },
  {
   "cell_type": "markdown",
   "metadata": {},
   "source": [
    "- 简言之就是：路径选择问题    \n",
    "    - A simple shortest path example :         \n",
    "        > http://qiao.github.io/PathFinding.js/visual/            \n",
    "    - 什么样的Path是最好的Path？这是重点\n",
    "        - 路径最短\n",
    "            - BFS & DFS\n",
    "            - Dijkstra\n",
    "    - 刚刚看到的Search属于Non-informative search，效率比较低\n",
    "    - A* search：基于Dijkstra的改进算法\n",
    "        - 大概知道了终点位置\n",
    "        - Heuristic func\n",
    "        > https://www.redblobgames.com/pathfinding/a-star/introduction.html"
   ]
  },
  {
   "cell_type": "markdown",
   "metadata": {},
   "source": [
    "- 无人车中的规划和A* Search相差多远？    \n",
    "    - 部分感知\n",
    "    - 动态障碍物\n",
    "    - 复杂环境：交通规则、碰瓷\n",
    "            \n",
    "    <img src=\"./pic/partially_observe.png\" width = \"500\" align = \"center\"/>         \n",
    "     \n",
    "    - A* 本身是一个Global Algorithm\n",
    "        - Global routing"
   ]
  },
  {
   "cell_type": "markdown",
   "metadata": {},
   "source": [
    "- Partial observed situation\n",
    "    - 贪心算法\n",
    "        - incremental search：目前状态求解到最优\n",
    "                \n",
    "        <img src=\"./pic/D_star.png\" width = \"500\" align = \"center\"/>\n",
    "        \n",
    "    - D* star\n",
    "        - 部分环境信息的一个Search\n",
    "        - Apollo登月小车\n",
    "        - D* Lite\n",
    "        \n",
    "    - 这样可以求解全局最优？\n",
    "        - 有难度\n",
    "        - 一定有必要全局最优？\n",
    "            \n",
    "        > Stentz Anthony, \"Optimal and Efficient Path Planning for Partially-Known Environments\", 1994"
   ]
  },
  {
   "cell_type": "markdown",
   "metadata": {},
   "source": [
    "- Informative & Non-informative search\n",
    "    - Global & Partial observed\n"
   ]
  },
  {
   "cell_type": "markdown",
   "metadata": {},
   "source": [
    "- 至此，我们已经有了如下几个方法：\n",
    "    - 目标函数并且结合了平滑性和目标Cost\n",
    "    - 使用通用的Search方法来最小化Cost从而找到一个最优解\n",
    "    - 通过Partial observed information来做局部planning"
   ]
  },
  {
   "cell_type": "markdown",
   "metadata": {},
   "source": [
    "- 我们还缺什么？\n",
    "    - 处理动态障碍物，动态环境\n",
    "        - 静止环境\n",
    "    - 处理交通规则\n",
    "        - 公共安全\n",
    "    - 实时计算\n",
    "        - 100ms~150ms\n",
    "        - 人一般反应时间300~500ms\n",
    "        - 酒驾 1000ms\n",
    "        - 有限时间内找到最优解\n",
    "        - C++\n"
   ]
  },
  {
   "cell_type": "markdown",
   "metadata": {},
   "source": [
    "- 给无人车motion planning下一个定义：\n",
    "    - Safely\n",
    "    - Smoothly\n",
    "    - Achieve to destination\n",
    "    - X, Y, Time: 3D trajectory optimization problem\n",
    "    - 无人车硬件系统\n",
    "        - 定位设备\n",
    "        - 感知设备\n",
    "    - 无人车软件信息\n",
    "        - 动态信息\n",
    "        - 静态信息\n",
    "            - HD Map\n",
    "                - 实时性保证\n",
    "    - 如何设计出一个合理的轨迹？\n",
    "        - 路径Path\n",
    "        - 速度Speed\n",
    "    \n",
    "        <img src=\"./pic/DV.png\" width = \"800\" align = \"center\"/>\n",
    "        "
   ]
  },
  {
   "cell_type": "markdown",
   "metadata": {},
   "source": [
    "- 经典参考书籍：\n",
    "    - Steve Lavelle, Motion Planning Algorithms\n",
    "    - Principles of Robot Motion: Theory, Algorithms, and Implementations\n",
    "- 经典文献：\n",
    "    - A Review of Motion Planning Techniques for Automated Vehicles\n",
    "            "
   ]
  },
  {
   "cell_type": "markdown",
   "metadata": {},
   "source": [
    "# 基本Planning方法\n",
    "\n",
    "- 经典基于环境建模的方法\n",
    "    - RRT\n",
    "    - Lattice\n",
    "- 现代无人车Planning方法\n",
    "    - Darpa\n",
    "    - Lattice in Frenet Frame\n",
    "    - Spiral polynomial\n",
    "    \n",
    "    <img src=\"./pic/planning_methods.png\" width = \"800\" align = \"center\"/>\n",
    "    \n",
    "    > A Review of Motion Planning Techniques for Automated Vehicles\n",
    "\n",
    "- 质点模型\n",
    "    - 物体看成一个质点\n",
    "    \n",
    "    <img src=\"./pic/point_model.png\" width = \"300\" align = \"center\"/>\n",
    "    \n",
    "    > http://people.duke.edu/~kh269/teaching/b659/schedule.htm\n",
    "\n",
    "    - 点与点不碰撞\n",
    "- 刚体问题\n",
    "    - BycicleModel\n",
    "    - XY Heading\n",
    "    - Collision\n",
    "- Planning限制条件\n",
    "    - 避免碰撞\n",
    "    - 边界阈值\n",
    "\n",
    "- 连续空间问题怎么解？\n",
    "    - 离散化\n",
    "    - 网格化\n"
   ]
  },
  {
   "cell_type": "markdown",
   "metadata": {},
   "source": [
    "# 传统的机器人基础\n",
    "\n",
    "- PRM(Probabilistic RoadMap Planning)\n",
    "    - 非常常用的一个方法\n",
    "    \n",
    "    <img src=\"./pic/path_space.png\" width = \"500\" align = \"center\"/>\n",
    "    \n",
    "    - 连续空间离散化\n",
    "        - 随机撒点\n",
    "        - Obstacle 上的点删除\n",
    "    - 连接可行点，行成可行空间\n",
    "    - A*\n",
    "    "
   ]
  },
  {
   "cell_type": "markdown",
   "metadata": {},
   "source": [
    "- RRT(Incremental version of PRM)\n",
    "    - 使用增量搜索的方式来进行\n",
    "    \n",
    "    <img src=\"./pic/rrt1.png\" width = \"500\" align = \"center\"/>\n",
    "\n",
    "    - 找附近可行点的最优点\n",
    "        - F(x)最小，Cost最小\n",
    "        - 走过程中也不能有阻碍使Cost小\n",
    "    - 走过程中，还可能碰到障碍物\n",
    "    \n",
    "    <img src=\"./pic/rrt2.png\" width = \"500\" align = \"center\"/>\n",
    "    \n",
    "    - 撒点搜索距离不能太远\n",
    "        - 一步一步移动\n",
    "    \n",
    "    <img src=\"./pic/rrt3.png\" width = \"500\" align = \"center\"/>\n",
    "    "
   ]
  },
  {
   "cell_type": "markdown",
   "metadata": {},
   "source": [
    "- Lattice方法\n",
    "    - 改进了RRT的折线问题\n",
    "    - 给出Path的平滑曲线\n",
    "    - 网格化\n",
    "        - 每个采样格中都是用曲线连接\n",
    "    \n",
    "    <img src=\"./pic/lattice_map.png\" width = \"500\" align = \"center\"/>\n",
    "    \n",
    "    - 指数级别的一个搜索算法（NP-Hard）\n",
    "    "
   ]
  },
  {
   "cell_type": "markdown",
   "metadata": {},
   "source": [
    "- DP（动态规划）\n",
    "\n",
    "    - 减少搜索空间\n",
    "        - 复用已有结果\n",
    "\n",
    "    <img src=\"./pic/lattice_map2.png\" width = \"500\" align = \"center\"/>\n",
    "\n",
    "    - Lattice DP的平滑度够吗？\n",
    "        - 曲率连续\n",
    "        - 曲率导数不一定连续"
   ]
  },
  {
   "cell_type": "markdown",
   "metadata": {},
   "source": [
    "- QP（二次规划）\n",
    "    - 凸优化问题最优化求解\n",
    "    - 公式表达\n",
    "    $$\n",
    "    minimize \\frac{1}{2}X^{T}QX+c^{T}X\n",
    "    $$\n",
    "    $$\n",
    "    subject:Ex=d,Fx\\leq m\n",
    "    $$\n",
    "    - 性质：在凸优化中的凸空间问题，用QP有最优解\n",
    "    - QP如何找到平滑曲线？\n",
    "        - $min \\left |f^{'}  \\right |^{2}$\n",
    "        - $min \\left |f^{''}  \\right |^{2}$\n",
    "        - $min \\left |f^{'''}  \\right |^{2}$\n",
    "    - 其它的平滑曲线方法还有贝塞尔曲线、样条插值方法"
   ]
  },
  {
   "cell_type": "markdown",
   "metadata": {},
   "source": [
    "- 刚体模型\n",
    "\n",
    "    <img src=\"./pic/vehicle_model.png\" width = \"500\" align = \"center\"/>\n",
    "\n",
    "    - 前轮转向和Heading的关系\n",
    "        - 车轮是沿着切线方向行驶\n",
    "        - 前后轮是同一个旋转中心\n",
    "        - 左右轮的结构相同\n",
    "    - Bicycle Model\n",
    "        \n",
    "        <img src=\"./pic/bicycle_model.png\" width = \"500\" align = \"center\"/>\n",
    "        \n",
    "        - 曲率公式：\n",
    "        $$\n",
    "        1/R=kappa=(\\tan (\\Omega))/L\n",
    "        $$\n",
    "    "
   ]
  },
  {
   "cell_type": "markdown",
   "metadata": {},
   "source": [
    "# 无人车Planning\n",
    "\n",
    "- 定义\n",
    "    - A点到B点，构建一个车辆运动轨迹，结合HDMap，Localization和Prediction\n",
    "    - 输入\n",
    "    - 输出：可行是轨迹，有一系列点组成\n",
    "    - 两个层面：导航层面；运动轨迹层面\n"
   ]
  },
  {
   "cell_type": "markdown",
   "metadata": {},
   "source": [
    "- Routing\n",
    "    - 导航一条A到B的全局路径\n",
    "    - 输入：地图（路网信息、交通状态）、当前位置、目的地（乘客决定）\n",
    "    - 输出：可行驶道路的连接线\n",
    "    - 搜索：地图数据转化成图网络\n",
    "        - 节点表示道路\n",
    "        - 边表示道路连接\n",
    "        \n",
    "        <img src=\"./pic/graph_node.png\" width = \"500\" align = \"center\"/>\n",
    "        \n"
   ]
  },
  {
   "cell_type": "markdown",
   "metadata": {},
   "source": [
    "        \n",
    "- A* 经典算法\n",
    "    - 最经典的路径查找算法\n",
    "    - $F(n)=G(n)+H(n)$\n",
    "    \n",
    "        <img src=\"./pic/A_star.png\" width = \"500\" align = \"center\"/>\n",
    "    \n",
    "        - Fn表示道路的routing的总Cost\n",
    "        - Gn表示起始点到候选点的Cost\n",
    "        - Hn表示候选点通过启发函数得到的目标点Cost\n",
    "    - 真实地图中的应用\n",
    "\n",
    "        <img src=\"./pic/graph_map.png\" width = \"500\" align = \"center\"/>\n",
    "\n",
    "        - 左转Cost最大\n",
    "    \n",
    "        <img src=\"./pic/node_value.png\" width = \"300\" align = \"center\"/>\n",
    "    \n",
    "        <img src=\"./pic/node_value2.png\" width = \"300\" align = \"center\"/>"
   ]
  },
  {
   "cell_type": "markdown",
   "metadata": {},
   "source": [
    "        \n",
    "- Motion Planning\n",
    "    \n",
    "    <img src=\"./pic/planning_traj.png\" width = \"500\" align = \"center\"/>\n",
    "    \n",
    "    - Planning理解为高精度、低级别的一个search，trajectory planning\n",
    "    - 轨迹点：XY、Time、Velocity\n",
    "        \n"
   ]
  },
  {
   "cell_type": "markdown",
   "metadata": {},
   "source": [
    "- 规划的约束条件\n",
    "    - Collision 碰撞\n",
    "        - 躲避任何障碍物\n",
    "    - Comfortable 舒适\n",
    "        - 路径点必须相对平滑、速度也要平滑\n",
    "    - 运动学约束\n",
    "        - 高速转弯、掉头曲率角度\n",
    "    - Illegal 合法\n",
    "        - 交通法规\n",
    "        - 人类约定俗成规则"
   ]
  },
  {
   "cell_type": "markdown",
   "metadata": {},
   "source": [
    "- Cost function 成本函数\n",
    "    - 真实情况下有多条可行轨迹\n",
    "    \n",
    "    <img src=\"./pic/traj.png\" width = \"500\" align = \"center\"/>\n",
    "    \n",
    "    - Cost由许多条件组成\n",
    "        - 道路偏离中心线距离\n",
    "        - 碰撞或者靠的太近\n",
    "        - 速度太快，超速\n",
    "        - Curvature太大，方向盘太急\n",
    "        \n",
    "        <img src=\"./pic/cost.png\" width = \"500\" align = \"center\"/>\n",
    "        \n",
    "    - 不同场景我们可能有多个不同的Cost func\n",
    "        - 高速场景\n",
    "        - 停车场\n",
    "        - 不同车辆\n"
   ]
  },
  {
   "cell_type": "markdown",
   "metadata": {},
   "source": [
    "- Frenet 坐标系（车道坐标系）\n",
    "    - 一般我们用笛卡尔坐标系（世界坐标系）\n",
    "    \n",
    "        <img src=\"./pic/cartestrian.png\" width = \"500\" align = \"center\"/>\n",
    "    \n",
    "        - xy坐标无法知道我们车开了多远\n",
    "        - 有没有偏离中心线\n",
    "        - 也不知道道路在哪\n",
    "    - 更好的坐标系：Frenet\n",
    "    \n",
    "        <img src=\"./pic/frenet.png\" width = \"500\" align = \"center\"/>\n",
    "    \n",
    "        - 注意和Track坐标系的区别\n",
    "            - L方向不同\n",
    "            - Track是基于Road级别\n",
    "            - Frenet是基于Lane级别\n",
    "        - S表示了走了多远\n",
    "        - L表示距离车道有多偏"
   ]
  },
  {
   "cell_type": "markdown",
   "metadata": {},
   "source": [
    "- Path vs Speed 解耦\n",
    "    - Path Planning\n",
    "        - 生成可行轨迹路径\n",
    "        - Cost\n",
    "            - path 平滑性\n",
    "            - 安全性\n",
    "            - 道路中心偏移距离\n",
    "            \n",
    "    - 选择出成本最低的一个Path Planning\n",
    "    - Speed Planning\n",
    "        - 每个Path上选择一系列速度\n",
    "        - 生成速度轨迹\n"
   ]
  },
  {
   "cell_type": "markdown",
   "metadata": {},
   "source": [
    "- Path Planning\n",
    "    - 先生成道路网格（GridMap）\n",
    "    - 每个网格单元中随机采样（撒点）\n",
    "    - 每个网格选一个点\n",
    "    - 组成多条候选Path\n",
    "    \n",
    "    <img src=\"./pic/path_select_point.png\" width = \"500\" align = \"center\"/>\n",
    "        \n",
    "    - Cost Function对这些轨迹进行评估\n",
    "        - （找到成本最低的一个）\n",
    "        - 中心线距离 $l*a_{0}$\n",
    "        - 障碍物距离 $d*a_{1}$\n",
    "        - 速度变化率 $acc*a_{2}$\n",
    "        - 曲率 $kappa*a_{3}$\n",
    "            - （为什么是kappa）\n",
    "    - $F(x)=l*a_{0}+d*a_{1}+acc*a_{2}+kappa*a_{3}+a_{4}$\n",
    "        - （大家可以任意构思这个评估函数）\n",
    "    "
   ]
  },
  {
   "cell_type": "markdown",
   "metadata": {},
   "source": [
    "- Speed Planning\n",
    "    - ST图\n",
    "    \n",
    "        <img src=\"./pic/st_graph.png\" width = \"500\" align = \"center\"/>\n",
    "    \n",
    "    - S 表示Path上纵向距离\n",
    "    - T 表示运动时间\n"
   ]
  },
  {
   "cell_type": "markdown",
   "metadata": {},
   "source": [
    "- 如何规划ST轨迹\n",
    "    \n",
    "    - 连续空间离散化(grid map)\n",
    "    - 单元格内速度保持不变\n",
    "    \n",
    "    <img src=\"./pic/st_grid.png\" width = \"500\" align = \"center\"/>\n",
    "    \n",
    "    - 把障碍物投影进来\n",
    "        - 挡住我们Path轨迹的部分画进ST图中\n",
    "        - 因此必须要有良好的预测轨迹\n",
    "        - （下图，t0, t1时刻障碍物会在我们的path轨迹中挡住s0, s1部分）\n",
    "        \n",
    "        <img src=\"./pic/st_obs.png\" width = \"500\" align = \"center\"/>\n",
    "    \n",
    "    - 速度曲线不能碰撞这个区域\n",
    "    \n",
    "        <img src=\"./pic/st_speed.png\" width = \"500\" align = \"center\"/>\n",
    "    \n",
    "        <img src=\"./pic/st_multi.png\" width = \"500\" align = \"center\"/>\n",
    "        \n",
    "    - 凸优化来求解得到最优的速度曲线\n",
    "        - Search\n",
    "        - 限制条件：速度限制、距离限制（安全距离）、车辆动力学限制（车的加速度、刹车性能）\n",
    "    \n",
    "        <img src=\"./pic/st_speed_one.png\" width = \"500\" align = \"center\"/>\n",
    "        "
   ]
  },
  {
   "cell_type": "markdown",
   "metadata": {},
   "source": [
    " - 如何优化？\n",
    "     - 对不平滑的速度线优化\n",
    "         - QP\n",
    "     \n",
    "     <img src=\"./pic/em_planner.png\" width = \"500\" align = \"center\"/>\n",
    "     \n",
    "     - 我们的这个方法很大程度依赖于连续空间离散化\n",
    "     - 网格、单元格方法\n",
    "         - 但是并不平滑\n",
    "    - Quadratic Programming 二次规划\n",
    "        - 将平滑的非线性曲线与这些线段进行拟合\n",
    "        - 有现成的工具 qpOASES\n",
    "        \n",
    "        > https://projects.coin-or.org/qpOASES/wiki\n",
    "     "
   ]
  },
  {
   "cell_type": "markdown",
   "metadata": {},
   "source": [
    "- 轨迹规划\n",
    "    - 实例：遇到一辆速度很慢的车我们如何超车\n",
    "    \n",
    "    <img src=\"./pic/emplanner1.png\" width = \"500\" align = \"center\"/>\n",
    "    \n",
    "    - 生成很多轨迹线（撒点采样）\n",
    "        \n",
    "    <img src=\"./pic/emplanner2.png\" width = \"500\" align = \"center\"/>\n",
    "    \n",
    "    - Cost function对其进行评估，选择Cost最小的一条\n",
    "    \n",
    "    <img src=\"./pic/emplanner3.png\" width = \"500\" align = \"center\"/>\n",
    "    \n",
    "    - 生成一个ST图来表述速度规划    \n",
    "    - 生成多条速度曲线\n",
    "    \n",
    "    <img src=\"./pic/emplanner4.png\" width = \"500\" align = \"center\"/>\n",
    "    \n",
    "    - 使用优化工具对多条速度采样进行最优化求解（Cost func，Constraints）\n",
    "        - 让整个路线和速度曲线变得平滑\n",
    "        \n",
    "    <img src=\"./pic/emplanner5.png\" width = \"500\" align = \"center\"/>\n",
    "        \n",
    "    - 最后将每个轨迹点（跟我们自己定义的轨迹点Resolution）的Path、Speed合并得到最终结果\n",
    "    \n",
    "        <img src=\"./pic/emplanner6.png\" width = \"500\" align = \"center\"/>\n",
    "    "
   ]
  },
  {
   "cell_type": "markdown",
   "metadata": {},
   "source": [
    "- Lattice Planning （网格规划）\n",
    "    - SL轨迹和ST轨迹\n",
    "    \n",
    "    <img src=\"./pic/lattice_st.png\" width = \"300\" align = \"center\"/>\n",
    "    <img src=\"./pic/lattice_sl.png\" width = \"300\" align = \"center\"/>\n",
    "    \n",
    "    - Lattice将两个图合并处理，同时进行Path和Speed的采样\n",
    "    - 实例：如果我们遇到一个切车场景\n",
    "    \n",
    "        <img src=\"./pic/lattice1.png\" width = \"200\" align = \"center\"/>\n",
    "    \n",
    "    - 先对整个候选轨迹进行采样\n",
    "    \n",
    "        <img src=\"./pic/lattice2.png\" width = \"200\" align = \"center\"/>\n",
    "\n",
    "    - 设计一个合理的Cost\n",
    "    - 选择一个Cost最小的轨迹\n",
    "    \n",
    "        <img src=\"./pic/lattice3.png\" width = \"200\" align = \"center\"/>\n",
    "        \n",
    "    - 条件检查和碰撞检查\n",
    "    \n",
    "        <img src=\"./pic/lattice4.png\" width = \"200\" align = \"center\"/>\n",
    "        <img src=\"./pic/lattice5.png\" width = \"200\" align = \"center\"/>\n",
    "    \n",
    "    - 检查失败则返回继续找Cost次优候选项\n",
    "    \n",
    "        <img src=\"./pic/lattice6.png\" width = \"200\" align = \"center\"/>\n",
    "    \n",
    "    - 成功则输出结果\n",
    "    \n",
    "        <img src=\"./pic/lattice7.png\" width = \"200\" align = \"center\"/>\n",
    "    \n",
    "    - Lattice 因为其采样计算量大，为了优化其采样效果，需要先进行场景化以简化计算量"
   ]
  },
  {
   "cell_type": "markdown",
   "metadata": {},
   "source": [
    "- Cruising, Following and Stopping：对S方向进行优化\n",
    "    - Cruising: 定速行驶\n",
    "        - $v=v_{C}$\n",
    "        - $a=0$\n",
    "        - 这种状态我们不需要采样\n",
    "    - Following: 跟车行驶\n",
    "    \n",
    "        <img src=\"./pic/following.png\" width = \"500\" align = \"center\"/>\n",
    "    \n",
    "        - 需要对s和t同事采样\n",
    "        - 规定时间t跟在某个车的后面\n",
    "        - 保证安全距离\n",
    "        - $v=v_{1}$\n",
    "        - $a=a_{1}$\n",
    "    - Stopping: 停止\n",
    "        - 对车辆在哪里停下来进行采样\n",
    "        - s和t同时采样\n",
    "        - $a=0$\n",
    "        - $v=0$\n",
    "        \n",
    "        <img src=\"./pic/stopping.png\" width = \"500\" align = \"center\"/>\n",
    "        "
   ]
  },
  {
   "cell_type": "markdown",
   "metadata": {},
   "source": [
    "- Lattice 对L方向进行优化\n",
    "    - 需要保证车辆以一个稳定的状态进行终点状态，比如与车道线保持平齐\n",
    "        \n",
    "    <img src=\"./pic/SLPoint.png\" width = \"300\" align = \"center\"/>\n",
    "    \n",
    "    - $H^{'}=0$ $H^{''}=0$\n",
    "    - $S^{'}=0$ $S^{''}=0$"
   ]
  },
  {
   "cell_type": "markdown",
   "metadata": {},
   "source": [
    "- 合并ST和SL坐标\n",
    "    - 转化到Cartesian坐标系\n",
    "    \n",
    "    <img src=\"./pic/st_sl.png\" width = \"700\" align = \"center\"/>\n",
    "    \n",
    "    - 生成XYTime一个三维轨迹\n",
    "        - 两个坐标系中都有S\n",
    "        - 找同一个S，对应的L和T\n",
    "   "
   ]
  },
  {
   "cell_type": "markdown",
   "metadata": {},
   "source": [
    "# APOLLO 如何求解规划问题\n",
    "\n",
    "- Constrains\n",
    "    - soft contraints & hard constraints\n",
    "    - 给一个实际例子\n",
    "    \n",
    "        <img src=\"./pic/constraints.png\" width = \"700\" align = \"center\"/>\n",
    "        \n",
    "    - Constraints：\n",
    "        - 交通规则：Hard constraints\n",
    "        - 用QP或者Hard code方式精细处理\n",
    "    - Decision：\n",
    "        - 决策：Soft constraints\n",
    "        - 用DP的方式来处理一些人为设置的软约束\n",
    "    - 最优轨迹：\n",
    "        - QP"
   ]
  },
  {
   "cell_type": "markdown",
   "metadata": {},
   "source": [
    "- 如何换道\n",
    "    - 无人车想要换道怎么办？\n",
    "    \n",
    "        <img src=\"./pic/change_lane.png\" width = \"500\" align = \"center\"/>\n",
    "        \n",
    "    - 换道考虑很多安全性问题\n",
    "        - 给出两种轨迹结果，让后续模块判断\n",
    "    - Reference Line Decider\n",
    "        - 换道时是否安全\n",
    "        - 拿到信息比Planning丰富\n",
    "        - 做很多准备工作\n",
    "    "
   ]
  },
  {
   "cell_type": "markdown",
   "metadata": {},
   "source": [
    "- Apollo EM Planner\n",
    "    - 什么叫EM\n",
    "    \n",
    "        <img src=\"./pic/em_framework2.png\" width = \"500\" align = \"center\"/>\n",
    "        \n",
    "    - 先生成一条Optimal Path\n",
    "    - 再生成一条当前Path情况下的Optimal Speed\n",
    "    - 再将目前的Speed返回去给Path进行一次Tuning\n",
    "    - 将Tuning的Path返回来给Speed做优化\n",
    "    - 最后迭代到最优解      \n",
    "    - 贪心算法：Local Optimum\n",
    "        \n",
    "        <img src=\"./pic/em_framework3.png\" width = \"500\" align = \"center\"/>"
   ]
  },
  {
   "cell_type": "markdown",
   "metadata": {},
   "source": [
    "- 三个关键步骤\n",
    "    - 目标函数\n",
    "        - 线性加权的Cost\n",
    "        - （当然有更好的）\n",
    "    - 限制条件\n",
    "        - 交通规则\n",
    "        - 碰撞条件（无穷大）\n",
    "        - 动态特性（车辆能力）\n",
    "    - 优化求解\n",
    "        - 如何计算最优解（DP + QP）\n",
    "        \n",
    "        <img src=\"./pic/dp_qp.png\" width = \"700\" align = \"center\"/>\n",
    "        \n",
    "        - DP：不要求问题是凸的\n",
    "        - QP：是一种凸优化"
   ]
  },
  {
   "cell_type": "markdown",
   "metadata": {},
   "source": [
    "- Path QP\n",
    "    - 问题抽象：根据当前驾驶信息和道路状况建立平滑的SL坐标轨迹\n",
    "    - 模型建立：合理优化目标函数和约束条件\n",
    "    - 优化方法：二次优化求解带约束的二次规划问题\n",
    "    \n",
    "    <img src=\"./pic/path_qp.png\" width = \"700\" align = \"center\"/>\n",
    "    \n",
    "    $$\n",
    "    L(s)=argmin_{l(s)}w_{0}\\int l^{'''}(s)^{2}ds+w_{1}\\int l^{''}(s)^{2}ds+w_{2}\\int (l(s)-l_{ref})^{2}ds+other\n",
    "    $$\n",
    "    $$\n",
    "    a_{i}\\leq l(s_{i})\\leq b_{i}\n",
    "    $$\n",
    "         "
   ]
  },
  {
   "cell_type": "markdown",
   "metadata": {},
   "source": [
    "- Speed DP\n",
    "    - 问题抽象：使用ST图\n",
    "    - 模型建立：Cost函数（障碍物、曲率、无人车状态）\n",
    "    - 优化方法DP最优求解\n",
    "    \n",
    "    <img src=\"./pic/speed_dp.png\" width = \"700\" align = \"center\"/>\n",
    "    \n",
    "    - $s^{'}=v$\n",
    "    - $s^{''}=acc$\n",
    "    - $s^{'''}=jerk$ 踩油门或刹车的速度"
   ]
  },
  {
   "cell_type": "markdown",
   "metadata": {},
   "source": [
    "- 计算提速思路\n",
    "    - SL坐标系离散化处理\n",
    "        - 什么时候使用粗分辨率什么时候用细分辨率\n",
    "    - GPU并行计算\n",
    "        - 同时计算多条Reference Lane的结果\n",
    "    - QP Hotstart\n",
    "        - QP的性质\n",
    "        - 两帧之间差距不大\n",
    "    - 精通C++\n",
    "    "
   ]
  },
  {
   "cell_type": "markdown",
   "metadata": {},
   "source": [
    "# 总结\n",
    "\n",
    "- 什么是规划\n",
    "- 机器人学基本规划思路\n",
    "- 无人车规划特点\n",
    "- Apollo中的EM Planner\n"
   ]
  },
  {
   "cell_type": "markdown",
   "metadata": {},
   "source": [
    "# Homework\n",
    "\n",
    "- Reading：\n",
    "    - A Review of Motion Planning Techniques for Automated Vehicles\n",
    "    - Baidu Apollo EM Motion Planner\n",
    "    - A* : https://www.redblobgames.com/pathfinding/a-star/introduction.html\n",
    "- Coding：\n",
    "    - PythonRobotics: https://github.com/AtsushiSakai/PythonRobotics\n",
    "- Thinking：\n",
    "    - Everything is trade-off?\n",
    "    - No model is perfect, but useful"
   ]
  },
  {
   "cell_type": "code",
   "execution_count": null,
   "metadata": {},
   "outputs": [],
   "source": []
  }
 ],
 "metadata": {
  "kernelspec": {
   "display_name": "Python 3",
   "language": "python",
   "name": "python3"
  },
  "language_info": {
   "codemirror_mode": {
    "name": "ipython",
    "version": 3
   },
   "file_extension": ".py",
   "mimetype": "text/x-python",
   "name": "python",
   "nbconvert_exporter": "python",
   "pygments_lexer": "ipython3",
   "version": "3.6.8"
  }
 },
 "nbformat": 4,
 "nbformat_minor": 2
}
