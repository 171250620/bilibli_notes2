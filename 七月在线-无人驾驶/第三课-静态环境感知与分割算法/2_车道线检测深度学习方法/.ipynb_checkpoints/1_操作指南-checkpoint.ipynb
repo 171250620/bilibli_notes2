{
 "cells": [
  {
   "cell_type": "markdown",
   "metadata": {},
   "source": [
    "## github下载相关文件和代码\n",
    "\n",
    "* [github地址](https://github.com/MaybeShewill-CV/lanenet-lane-detection)"
   ]
  },
  {
   "cell_type": "markdown",
   "metadata": {},
   "source": [
    "## 安装相关库\n",
    "\n",
    "* 进入下载目录中\n",
    "* `pip3 install -r requirements.txt`"
   ]
  },
  {
   "cell_type": "markdown",
   "metadata": {},
   "source": [
    "## 下载作者已经训练好的模型\n",
    "\n",
    "* [new_lanenet_model_file](https://www.dropbox.com/sh/tnsf0lw6psszvy4/AAA81r53jpUI3wLsRW6TiPCya?dl=0)\n",
    "\n",
    "* 注意\n",
    "    * 下载后的文件需要zip解压,解压后文件名为:New_Tusimple_Lanenet_Model_Weights\n",
    "    * 最好将该目录和第一步的github目录放到一起.便于后面代码使用"
   ]
  },
  {
   "cell_type": "markdown",
   "metadata": {},
   "source": [
    "## 测试\n",
    "* `python tools/test_lanenet.py --is_batch False --batch_size 1 --weights_path /home/sniper/Downloads/lanenet-line-detection-master/New_Tusimple_Lanenet_Model_Weights/tusimple_lanenet_vgg_2018-10-19-13-33-56.ckpt-200000 --image_path ./data/tusimple_test_image/0.jpg`\n",
    "    * 这里的`--weights_path`使用的就是第三步你下载的模型文件.对于`tusimple_lanenet_vgg_2018-10-19-13-33-56.ckpt-200000`不要奇怪,我知道你好奇为啥没有后缀名,这里不是误操作,就是到200000截止了.\n",
    "    * `--image_path`是你第一步下载的目录中的文件,`./`表示从当前目录下查找,一般不用变\n",
    "    \n"
   ]
  },
  {
   "cell_type": "markdown",
   "metadata": {},
   "source": [
    "## 出现error\n",
    "\n",
    "* 出现`ModuleNotFoundError: No module named 'lanenet_model'`解决办法\n",
    "    * `export PYTHONPATH=\"${PYTHONPATH}:/home/sniper/Downloads/lanenet-line-detection-master/lanenet-lane-detection-master/lanenet_model\"`\n",
    "        * 注意,这里的`/home/sniper/Downloads`地址改为你自己的地址"
   ]
  }
 ],
 "metadata": {
  "kernelspec": {
   "display_name": "Python 3",
   "language": "python",
   "name": "python3"
  },
  "language_info": {
   "codemirror_mode": {
    "name": "ipython",
    "version": 3
   },
   "file_extension": ".py",
   "mimetype": "text/x-python",
   "name": "python",
   "nbconvert_exporter": "python",
   "pygments_lexer": "ipython3",
   "version": "3.6.5"
  },
  "toc": {
   "base_numbering": 1,
   "nav_menu": {},
   "number_sections": true,
   "sideBar": true,
   "skip_h1_title": false,
   "title_cell": "Table of Contents",
   "title_sidebar": "Contents",
   "toc_cell": false,
   "toc_position": {},
   "toc_section_display": true,
   "toc_window_display": false
  },
  "varInspector": {
   "cols": {
    "lenName": 16,
    "lenType": 16,
    "lenVar": 40
   },
   "kernels_config": {
    "python": {
     "delete_cmd_postfix": "",
     "delete_cmd_prefix": "del ",
     "library": "var_list.py",
     "varRefreshCmd": "print(var_dic_list())"
    },
    "r": {
     "delete_cmd_postfix": ") ",
     "delete_cmd_prefix": "rm(",
     "library": "var_list.r",
     "varRefreshCmd": "cat(var_dic_list()) "
    }
   },
   "types_to_exclude": [
    "module",
    "function",
    "builtin_function_or_method",
    "instance",
    "_Feature"
   ],
   "window_display": false
  }
 },
 "nbformat": 4,
 "nbformat_minor": 2
}
